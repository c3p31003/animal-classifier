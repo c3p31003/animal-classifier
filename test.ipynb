{
 "cells": [
  {
   "cell_type": "code",
   "execution_count": 2,
   "id": "d341b31f-8328-48f0-aad6-269de53c45d0",
   "metadata": {},
   "outputs": [],
   "source": [
    "from PIL import Image\n",
    "import os,glob\n",
    "import numpy as np\n",
    "from sklearn.model_selection import train_test_split\n",
    "from sklearn.model_selection import cross_val_score\n",
    "from sklearn.model_selection import KFold\n",
    "\n",
    "classes = ['monkey', 'boar', 'crow']\n",
    "num_classes = len(classes)\n",
    "\n",
    "#画像のサイズを縦横ともに50ピクセルにする\n",
    "image_size = 50\n",
    "\n",
    "\n",
    "#画像の読み込み\n",
    "\n",
    "#画像データを格納\n",
    "X = []\n",
    "#ラベルデータを格納\n",
    "Y = []\n",
    "\n",
    "for index, classlabel in enumerate(classes):\n",
    "    #カレントディレクトリの後ろにクラス名を追加\n",
    "    photos_dir = './' + classlabel\n",
    "    files = glob.glob(photos_dir + '/*.jpg')\n",
    "    \n",
    "    #一覧を取得した後、その中のデータを順番に取り出していく。\n",
    "    for i,file in enumerate(files):\n",
    "        if i >= 200:\n",
    "            break\n",
    "        image = Image.open(file)\n",
    "        #imageをRGBの三色に変換\n",
    "        image = image.convert(\"RGB\")\n",
    "        #imageのサイズをそろえる\n",
    "        image = image.resize((image_size, image_size))\n",
    "        #imageのデータを数字の配列にして、変数に格納\n",
    "        data = np.asarray(image)\n",
    "        #appendで配列の最後尾に追加\n",
    "        X.append(data)\n",
    "        Y.append(index)\n",
    "        \n",
    "#リスト型から、TensorFlowが扱いやすいnumpy配列にする\n",
    "X = np.array(X)\n",
    "Y = np.array(Y)\n",
    "\n"
   ]
  },
  {
   "cell_type": "code",
   "execution_count": 3,
   "id": "8a0c47f5-0d72-4318-a41a-9682d6a0da9a",
   "metadata": {},
   "outputs": [
    {
     "data": {
      "text/plain": [
       "array([[[ 29,  35,  20],\n",
       "        [ 23,  29,  15],\n",
       "        [ 22,  28,  15],\n",
       "        ...,\n",
       "        [ 25,  31,  17],\n",
       "        [ 26,  33,  17],\n",
       "        [ 28,  35,  19]],\n",
       "\n",
       "       [[ 25,  32,  15],\n",
       "        [ 22,  29,  13],\n",
       "        [ 23,  29,  14],\n",
       "        ...,\n",
       "        [ 28,  35,  19],\n",
       "        [ 28,  35,  18],\n",
       "        [ 29,  36,  18]],\n",
       "\n",
       "       [[ 24,  31,  14],\n",
       "        [ 25,  32,  16],\n",
       "        [ 25,  32,  16],\n",
       "        ...,\n",
       "        [ 32,  39,  22],\n",
       "        [ 31,  38,  21],\n",
       "        [ 32,  39,  21]],\n",
       "\n",
       "       ...,\n",
       "\n",
       "       [[ 69,  53,  30],\n",
       "        [ 77,  59,  33],\n",
       "        [ 81,  61,  36],\n",
       "        ...,\n",
       "        [ 37,  44,  26],\n",
       "        [ 40,  47,  29],\n",
       "        [ 41,  48,  29]],\n",
       "\n",
       "       [[ 51,  37,  21],\n",
       "        [ 58,  42,  22],\n",
       "        [ 58,  44,  23],\n",
       "        ...,\n",
       "        [ 39,  46,  30],\n",
       "        [ 40,  47,  29],\n",
       "        [ 40,  47,  29]],\n",
       "\n",
       "       [[111,  99,  80],\n",
       "        [ 71,  63,  49],\n",
       "        [ 30,  26,  24],\n",
       "        ...,\n",
       "        [ 38,  45,  29],\n",
       "        [ 39,  46,  28],\n",
       "        [ 39,  46,  28]]], dtype=uint8)"
      ]
     },
     "execution_count": 3,
     "metadata": {},
     "output_type": "execute_result"
    }
   ],
   "source": [
    "X[0]"
   ]
  },
  {
   "cell_type": "code",
   "execution_count": 4,
   "id": "5db1c230-0d95-4293-82f2-85e78bcb6b39",
   "metadata": {},
   "outputs": [
    {
     "data": {
      "text/plain": [
       "600"
      ]
     },
     "execution_count": 4,
     "metadata": {},
     "output_type": "execute_result"
    }
   ],
   "source": [
    "len(X)"
   ]
  },
  {
   "cell_type": "code",
   "execution_count": 6,
   "id": "5428cb71-6873-45eb-b6d1-3cbf96260662",
   "metadata": {},
   "outputs": [],
   "source": [
    "from PIL import Image\n",
    "import os,glob\n",
    "import numpy as np\n",
    "from sklearn.model_selection import train_test_split\n",
    "from sklearn import model_selection\n",
    "from sklearn.model_selection import KFold\n",
    "\n",
    "classes = ['monkey', 'boar', 'crow']\n",
    "num_classes = len(classes)\n",
    "\n",
    "#画像のサイズを縦横ともに50ピクセルにする\n",
    "image_size = 50\n",
    "\n",
    "\n",
    "#画像の読み込み\n",
    "\n",
    "#画像データを格納\n",
    "X = []\n",
    "#ラベルデータを格納\n",
    "Y = []\n",
    "\n",
    "for index, classlabel in enumerate(classes):\n",
    "    #カレントディレクトリの後ろにクラス名を追加\n",
    "    photos_dir = './' + classlabel\n",
    "    files = glob.glob(photos_dir + '/*.jpg')\n",
    "    \n",
    "    #一覧を取得した後、その中のデータを順番に取り出していく。\n",
    "    for i,file in enumerate(files):\n",
    "        if i >= 200:\n",
    "            break\n",
    "        image = Image.open(file)\n",
    "        #imageをRGBの三色に変換\n",
    "        image = image.convert(\"RGB\")\n",
    "        #imageのサイズをそろえる\n",
    "        image = image.resize((image_size, image_size))\n",
    "        #imageのデータを数字の配列にして、変数に格納\n",
    "        data = np.asarray(image)\n",
    "        #appendで配列の最後尾に追加\n",
    "        X.append(data)\n",
    "        Y.append(index)\n",
    "        \n",
    "#リスト型から、TensorFlowが扱いやすいnumpy配列にする\n",
    "X = np.array(X)\n",
    "Y = np.array(Y)\n",
    "\n",
    "\n",
    "x_train,x_test,y_train,y_test = model_selection.train_test_split(X, Y)\n",
    "xy = (x_train,x_test,y_train,y_test)\n",
    "np.savez('./animal_data.npz', x_train=x_train, x_test=x_test, y_train=y_train, y_test=y_test)\n"
   ]
  },
  {
   "cell_type": "code",
   "execution_count": 7,
   "id": "9f8c55c5-6503-496d-9704-77f0be06045c",
   "metadata": {},
   "outputs": [
    {
     "ename": "NameError",
     "evalue": "name 'X_train' is not defined",
     "output_type": "error",
     "traceback": [
      "\u001b[1;31m---------------------------------------------------------------------------\u001b[0m",
      "\u001b[1;31mNameError\u001b[0m                                 Traceback (most recent call last)",
      "Cell \u001b[1;32mIn[7], line 1\u001b[0m\n\u001b[1;32m----> 1\u001b[0m \u001b[38;5;28mlen\u001b[39m(\u001b[43mX_train\u001b[49m)\n",
      "\u001b[1;31mNameError\u001b[0m: name 'X_train' is not defined"
     ]
    }
   ],
   "source": [
    "len(X_train)"
   ]
  },
  {
   "cell_type": "code",
   "execution_count": 8,
   "id": "f499cc1b-665b-4813-9652-6865551175fb",
   "metadata": {},
   "outputs": [
    {
     "data": {
      "text/plain": [
       "450"
      ]
     },
     "execution_count": 8,
     "metadata": {},
     "output_type": "execute_result"
    }
   ],
   "source": [
    "len(x_train)"
   ]
  },
  {
   "cell_type": "code",
   "execution_count": 9,
   "id": "54ed7654-eb3d-4499-ae7d-36c5bc2a3049",
   "metadata": {},
   "outputs": [
    {
     "data": {
      "text/plain": [
       "150"
      ]
     },
     "execution_count": 9,
     "metadata": {},
     "output_type": "execute_result"
    }
   ],
   "source": [
    "len(x_test)"
   ]
  },
  {
   "cell_type": "code",
   "execution_count": null,
   "id": "582c360b-8af6-4b37-9bab-cd1d1b231015",
   "metadata": {},
   "outputs": [],
   "source": []
  }
 ],
 "metadata": {
  "kernelspec": {
   "display_name": "Python 3 (ipykernel)",
   "language": "python",
   "name": "python3"
  },
  "language_info": {
   "codemirror_mode": {
    "name": "ipython",
    "version": 3
   },
   "file_extension": ".py",
   "mimetype": "text/x-python",
   "name": "python",
   "nbconvert_exporter": "python",
   "pygments_lexer": "ipython3",
   "version": "3.10.13"
  }
 },
 "nbformat": 4,
 "nbformat_minor": 5
}
